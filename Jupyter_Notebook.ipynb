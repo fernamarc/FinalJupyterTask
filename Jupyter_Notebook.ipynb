{
 "cells": [
  {
   "cell_type": "markdown",
   "id": "3cfbfa51-d4a1-438f-bc89-0b37665df300",
   "metadata": {},
   "source": [
    "My Jupyter Notebook on IBM Watson Studio"
   ]
  },
  {
   "cell_type": "markdown",
   "id": "aa0b699d-1387-4597-8bb8-2842625316a2",
   "metadata": {},
   "source": [
    "**Marc Fernandez**\n",
    "\n",
    "Data Analyst"
   ]
  },
  {
   "cell_type": "markdown",
   "id": "8d139b84-cac4-4aa2-a969-92c12637de46",
   "metadata": {},
   "source": [
    "*I am interested in data science because it has a huge potential when analyzing data and can help a lot on optimizing the marketing investment. Moreover, it brings me so many job opportunities.*"
   ]
  },
  {
   "cell_type": "markdown",
   "id": "887f79a0-6bb1-401f-b5f1-115e570d10f4",
   "metadata": {},
   "source": [
    "### It displays an output"
   ]
  },
  {
   "cell_type": "code",
   "execution_count": 1,
   "id": "f84f35df-96e8-4919-81cb-7cc4642206b6",
   "metadata": {},
   "outputs": [
    {
     "data": {
      "text/plain": [
       "5"
      ]
     },
     "execution_count": 1,
     "metadata": {},
     "output_type": "execute_result"
    }
   ],
   "source": [
    "1+1*4"
   ]
  },
  {
   "cell_type": "markdown",
   "id": "75b2a5cf-9cb0-41f5-b4e4-73601bb0ddaa",
   "metadata": {},
   "source": [
    "<blockquote>This is a car</blockquote>\n",
    "<ul>\n",
    "<li>One</li>\n",
    "<li>Two</li>\n",
    "<li>Three</li>\n",
    "</ul>\n",
    "\n",
    "<ol>\n",
    "<li>One</li>\n",
    "<li>Two</li>\n",
    "<li>Three</li>\n",
    "</ol>\n",
    "\n",
    "---\n",
    "\n",
    "|name|age|gender|\n",
    "|-|-|-|\n",
    "|Marc|24|male|\n",
    "|John|34|male|\n",
    "|Maria|36|female|\n",
    "|Fiona|98|female|\n",
    "\n",
    "[I'm a link](https://www.google.com)\n",
    "\n",
    "~~Strikethrough~~"
   ]
  }
 ],
 "metadata": {
  "kernelspec": {
   "display_name": "Python",
   "language": "python",
   "name": "conda-env-python-py"
  },
  "language_info": {
   "codemirror_mode": {
    "name": "ipython",
    "version": 3
   },
   "file_extension": ".py",
   "mimetype": "text/x-python",
   "name": "python",
   "nbconvert_exporter": "python",
   "pygments_lexer": "ipython3",
   "version": "3.7.12"
  }
 },
 "nbformat": 4,
 "nbformat_minor": 5
}
